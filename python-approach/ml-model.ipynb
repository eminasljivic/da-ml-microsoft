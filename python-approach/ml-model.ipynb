{
 "cells": [
  {
   "cell_type": "code",
   "execution_count": 1,
   "id": "25a88cad",
   "metadata": {},
   "outputs": [
    {
     "name": "stderr",
     "output_type": "stream",
     "text": [
      "/Users/eminasljivic/opt/miniconda3/envs/leoenv/lib/python3.10/site-packages/tqdm/auto.py:22: TqdmWarning: IProgress not found. Please update jupyter and ipywidgets. See https://ipywidgets.readthedocs.io/en/stable/user_install.html\n",
      "  from .autonotebook import tqdm as notebook_tqdm\n",
      "2022-12-04 21:00:25.757157: I tensorflow/core/platform/cpu_feature_guard.cc:193] This TensorFlow binary is optimized with oneAPI Deep Neural Network Library (oneDNN) to use the following CPU instructions in performance-critical operations:  AVX2 FMA\n",
      "To enable them in other operations, rebuild TensorFlow with the appropriate compiler flags.\n"
     ]
    }
   ],
   "source": [
    "import os\n",
    "import pandas as pd\n",
    "from pdf2image import convert_from_path\n",
    "import numpy as np\n",
    "import pytesseract\n",
    "import spacy\n",
    "from pytesseract import Output\n",
    "import cv2\n",
    "import json\n",
    "from spacy.matcher import PhraseMatcher\n",
    "from spacy.util import filter_spans\n",
    "from spacy.tokens import DocBin\n",
    "from pytesseract import Output\n",
    "import matplotlib.pyplot as plt\n",
    "import camelot.io as camelot\n",
    "from utils.boundingbox import BoundingBoxes\n",
    "from utils.text import Text\n",
    "import re\n",
    "from spacy import displacy"
   ]
  },
  {
   "cell_type": "code",
   "execution_count": 2,
   "id": "41cc4922",
   "metadata": {},
   "outputs": [],
   "source": [
    "train_dir = r'input/train'\n",
    "test_dir = r'input/test'\n",
    "fields_dir = r'input/fields'\n",
    "field_names = {'company-name', 'company-address', 'invoice-id', 'invoice-date', 'total-value', 'item-header', 'qty-header', 'rate-header', 'total-header'}\n",
    "\n",
    "testFilePath = train_dir+'/'+os.listdir(train_dir)[3]"
   ]
  },
  {
   "cell_type": "code",
   "execution_count": 3,
   "id": "f116e32c",
   "metadata": {},
   "outputs": [],
   "source": [
    "bounding_boxes = BoundingBoxes()"
   ]
  },
  {
   "cell_type": "markdown",
   "id": "82190edc",
   "metadata": {},
   "source": [
    "# Train Named Entity Recognizer"
   ]
  },
  {
   "cell_type": "code",
   "execution_count": 5,
   "id": "5d9c22f8",
   "metadata": {},
   "outputs": [],
   "source": [
    "fields = os.listdir(fields_dir)\n",
    "invoices = os.listdir(train_dir)"
   ]
  },
  {
   "cell_type": "code",
   "execution_count": 6,
   "id": "a7e14380",
   "metadata": {},
   "outputs": [
    {
     "name": "stdout",
     "output_type": "stream",
     "text": [
      "15\n",
      "15\n"
     ]
    }
   ],
   "source": [
    "print(len(fields))\n",
    "print(len(invoices))"
   ]
  },
  {
   "cell_type": "code",
   "execution_count": 7,
   "id": "0f4aceec",
   "metadata": {},
   "outputs": [],
   "source": [
    "set_fields  = set(map(lambda f: f.split('.')[0], fields))\n",
    "set_invoices = set(map(lambda f: f.split('.')[0], invoices))\n",
    "\n",
    "training_set = list(set_fields.intersection(set_invoices))"
   ]
  },
  {
   "cell_type": "code",
   "execution_count": 9,
   "id": "cc8881ef",
   "metadata": {},
   "outputs": [],
   "source": [
    "data = pd.DataFrame(columns=[\"filename\", \"text\"])\n",
    "\n",
    "data[\"filename\"] = training_set\n",
    "\n",
    "data_text = []\n",
    "for file in data[\"filename\"]:\n",
    "    data_text.append(get_text(f'{train_dir}/{file}.pdf'))\n",
    "data[\"text\"] = data_text\n",
    "\n",
    "ent_list = []\n",
    "for file in data[\"filename\"]:\n",
    "    with open(f'{fields_dir}/{file}.json') as f:\n",
    "        entity_dict = json.load(f)\n",
    "        ent_list.append(entity_dict)\n",
    "data[\"entity_dictionary\"] = ent_list"
   ]
  },
  {
   "cell_type": "code",
   "execution_count": 10,
   "id": "1d30a31c",
   "metadata": {},
   "outputs": [],
   "source": [
    "similar_chars = [\n",
    "    ['b', '6', 'G'],\n",
    "    ['c', 'C', '\\('],\n",
    "    ['q','g'],\n",
    "    ['0', 'O'],\n",
    "    ['S', '5', '9'],\n",
    "    ['V', 'U', 'v', 'u'],\n",
    "    ['Z','2'],\n",
    "    ['B','ß'],\n",
    "    ['e', 'c'],\n",
    "    [' ', '..']\n",
    "]\n",
    "def similar_looking_chars(str):\n",
    "    for similar_char in similar_chars:\n",
    "        if str in similar_char:\n",
    "            return similar_char\n",
    "            \n",
    "def search_by_one_char_off(str, text, entity):\n",
    "    for i in range(0,len(str)):\n",
    "        catch_total = re.search((str[:i] + '.' + str[i + 1:]), text)\n",
    "        if catch_total != None:\n",
    "            ent_tup = (catch_total.span()[0], catch_total.span()[1], entity)\n",
    "            return ent_tup\n",
    "\n",
    "def search_with_similar_chars(str, text, entity):\n",
    "    temp_value = ''\n",
    "    for i in range(0,len(str)):\n",
    "        similar_chars = similar_looking_chars(str[i])\n",
    "        if similar_chars:\n",
    "            temp_value += '('+'|'.join(similar_chars)+')'\n",
    "        else:\n",
    "            temp_value += str[i]\n",
    "    catch_total = re.search(temp_value, text)\n",
    "    if catch_total != None:\n",
    "        ent_tup = (catch_total.span()[0], catch_total.span()[1], entity)\n",
    "        return ent_tup"
   ]
  },
  {
   "cell_type": "code",
   "execution_count": 32,
   "id": "ceb61ab3",
   "metadata": {},
   "outputs": [],
   "source": [
    "training_data = []\n",
    "id_ent = []\n",
    "\n",
    "nlp_match = spacy.load('en_core_web_sm')\n",
    "matcher = PhraseMatcher(nlp_match.vocab)\n",
    "for index, row in data.iterrows():\n",
    "    ent_dic = row[\"entity_dictionary\"]\n",
    "    ent = []\n",
    "    phrases = list(ent_dic.values())\n",
    "    patterns = [nlp_match.make_doc(phrase) for phrase in phrases]\n",
    "    matcher.add(\"EntityList\", None, *patterns)\n",
    "\n",
    "    \n",
    "    ent_set = field_names\n",
    "    for entity in field_names:\n",
    "        value = ent_dic[entity]\n",
    "        text = row[\"text\"]\n",
    "        catch_total = re.search(value, text)\n",
    "        if catch_total != None:\n",
    "            ent_tup = (catch_total.span()[0], catch_total.span()[1], entity)\n",
    "            ent.append(ent_tup)\n",
    "        else:\n",
    "            temp = search_by_one_char_off(value, text, entity)\n",
    "            if not temp:\n",
    "                temp = search_with_similar_chars(value, text, entity)\n",
    "            if temp:\n",
    "                ent.append(temp)\n",
    "\n",
    "    id_ent.append(len(ent))\n",
    "    training_data.append({\"entities\": ent, \"text\":row[\"text\"]})"
   ]
  },
  {
   "cell_type": "code",
   "execution_count": 33,
   "id": "9c89c3bc",
   "metadata": {},
   "outputs": [],
   "source": [
    "nlp = spacy.blank(\"en\") # load a new spacy model\n",
    "doc_bin = DocBin() # create a DocBin object\n",
    "\n",
    "for training_example in training_data: \n",
    "    text = training_example['text']\n",
    "    labels = training_example['entities']\n",
    "    doc = nlp.make_doc(text) \n",
    "    ents = []\n",
    "    for start, end, label in labels:\n",
    "        span = doc.char_span(start, end, label=label, alignment_mode=\"contract\")\n",
    "        if span is None:\n",
    "            print(\"Skipping entity\", label)\n",
    "        else:\n",
    "            ents.append(span)\n",
    "    filtered_ents = filter_spans(ents)\n",
    "    doc.ents = filtered_ents \n",
    "    doc_bin.add(doc)\n",
    "\n",
    "doc_bin.to_disk(\"model/training_data.spacy\") # save the docbin object"
   ]
  },
  {
   "cell_type": "markdown",
   "id": "be347802",
   "metadata": {},
   "source": [
    "# Testing NER"
   ]
  },
  {
   "cell_type": "code",
   "execution_count": 40,
   "id": "a3c7b94a",
   "metadata": {},
   "outputs": [
    {
     "ename": "ValueError",
     "evalue": "[E961] Found non-serializable Python object in config. Configs should only include values that can be serialized to JSON. If you need to pass models or other objects to your component, use a reference to a registered function or initialize the object in your component.\n\n{'data':    filename                                               text  \\\n0    INV006     \\n Invoice \\n FROM TO \\n HTL Leonding Rechn...   \n1    INV015     \\n Invoice \\n FROM TO \\n HTL Leonding Rechn...   \n2    INV001     \\n Invoice \\n FROM TO \\n HTL Leonding Unbek...   \n3    INV003     \\n Invoice \\n FROM TO \\n HTL Leonding Unbek...   \n4    INV004        \\n    Subtotal Ust(20%) Total Invoice EU...   \n5    INV011     \\n Invoice \\n FROM TO \\n HTL Leonding Teste...   \n6    INV012     \\n Invoice \\n FROM TO \\n HTL Leonding Rechn...   \n7    INV009     \\n Invoice \\n FROM TO \\n HTL Leonding FoodT...   \n8    INV002     \\n Invoice \\n FROM TO \\n HTL Leonding FoodT...   \n9    INV008     \\n Invoice \\n FROM TO \\n HTL Leonding Teste...   \n10   INV013     \\n Invoice \\n FROM TO \\n HTL Leonding Teste...   \n11   INV010     \\n Invoice \\n FROM TO \\n HTL Leonding FoodT...   \n12   INV014     \\n Invoice \\n FROM TO \\n HTL Leonding Unbek...   \n13   INV005     \\n Commercial Invoice \\n FROM TO \\n HTL Leo...   \n14   INV007     \\n Invoice \\n FROM TO \\n HTL Leonding Teste...   \n\n                                    entity_dictionary  \n0   {'company-name': 'Rechnungsbearbeiter e.U.', '...  \n1   {'company-name': 'Rechnungsbearbeiter e.U.', '...  \n2   {'company-name': 'Unbekanntes Unternehmen KG',...  \n3   {'company-name': 'Unbekanntes Unternehmen KG',...  \n4   {'company-name': 'Demo GmbH', 'company-address...  \n5   {'company-name': 'Tester UG', 'company-address...  \n6   {'company-name': 'Rechnungsbearbeiter e.U.', '...  \n7   {'company-name': 'FoodTable', 'company-address...  \n8   {'company-name': 'FoodTable', 'company-address...  \n9   {'company-name': 'Tester UG', 'company-address...  \n10  {'company-name': 'Tester UG', 'company-address...  \n11  {'company-name': 'FoodTable', 'company-address...  \n12  {'company-name': 'Unbekanntes Unternehmen KG',...  \n13  {'company-name': 'Unbekanntes Unternehmen KG',...  \n14  {'company-name': 'Tester UG', 'company-address...  , 'ent_score': True}",
     "output_type": "error",
     "traceback": [
      "\u001b[0;31m---------------------------------------------------------------------------\u001b[0m",
      "\u001b[0;31mValueError\u001b[0m                                Traceback (most recent call last)",
      "\u001b[0;32m/var/folders/z3/721ychmx5zlchxrfz865dc2c0000gn/T/ipykernel_18614/270694549.py\u001b[0m in \u001b[0;36m<module>\u001b[0;34m\u001b[0m\n\u001b[1;32m      2\u001b[0m \u001b[0;34m\u001b[0m\u001b[0m\n\u001b[1;32m      3\u001b[0m \u001b[0mnlp_ner\u001b[0m \u001b[0;34m=\u001b[0m \u001b[0mspacy\u001b[0m\u001b[0;34m.\u001b[0m\u001b[0mload\u001b[0m\u001b[0;34m(\u001b[0m\u001b[0;34m\"model/model-best\"\u001b[0m\u001b[0;34m)\u001b[0m\u001b[0;34m\u001b[0m\u001b[0;34m\u001b[0m\u001b[0m\n\u001b[0;32m----> 4\u001b[0;31m \u001b[0mnlp_ner\u001b[0m\u001b[0;34m.\u001b[0m\u001b[0madd_pipe\u001b[0m\u001b[0;34m(\u001b[0m\u001b[0;34m\"concise_concepts\"\u001b[0m\u001b[0;34m,\u001b[0m \u001b[0mconfig\u001b[0m\u001b[0;34m=\u001b[0m\u001b[0;34m{\u001b[0m\u001b[0;34m\"data\"\u001b[0m\u001b[0;34m:\u001b[0m \u001b[0mdata\u001b[0m\u001b[0;34m,\u001b[0m \u001b[0;34m\"ent_score\"\u001b[0m\u001b[0;34m:\u001b[0m \u001b[0;32mTrue\u001b[0m\u001b[0;34m}\u001b[0m\u001b[0;34m)\u001b[0m\u001b[0;34m\u001b[0m\u001b[0;34m\u001b[0m\u001b[0m\n\u001b[0m",
      "\u001b[0;32m~/opt/miniconda3/envs/leoenv/lib/python3.10/site-packages/spacy/language.py\u001b[0m in \u001b[0;36madd_pipe\u001b[0;34m(self, factory_name, name, before, after, first, last, source, config, raw_config, validate)\u001b[0m\n\u001b[1;32m    793\u001b[0m                     \u001b[0mlang_code\u001b[0m\u001b[0;34m=\u001b[0m\u001b[0mself\u001b[0m\u001b[0;34m.\u001b[0m\u001b[0mlang\u001b[0m\u001b[0;34m,\u001b[0m\u001b[0;34m\u001b[0m\u001b[0;34m\u001b[0m\u001b[0m\n\u001b[1;32m    794\u001b[0m                 )\n\u001b[0;32m--> 795\u001b[0;31m             pipe_component = self.create_pipe(\n\u001b[0m\u001b[1;32m    796\u001b[0m                 \u001b[0mfactory_name\u001b[0m\u001b[0;34m,\u001b[0m\u001b[0;34m\u001b[0m\u001b[0;34m\u001b[0m\u001b[0m\n\u001b[1;32m    797\u001b[0m                 \u001b[0mname\u001b[0m\u001b[0;34m=\u001b[0m\u001b[0mname\u001b[0m\u001b[0;34m,\u001b[0m\u001b[0;34m\u001b[0m\u001b[0;34m\u001b[0m\u001b[0m\n",
      "\u001b[0;32m~/opt/miniconda3/envs/leoenv/lib/python3.10/site-packages/spacy/language.py\u001b[0m in \u001b[0;36mcreate_pipe\u001b[0;34m(self, factory_name, name, config, raw_config, validate)\u001b[0m\n\u001b[1;32m    644\u001b[0m             \u001b[0;32mraise\u001b[0m \u001b[0mValueError\u001b[0m\u001b[0;34m(\u001b[0m\u001b[0merr\u001b[0m\u001b[0;34m)\u001b[0m\u001b[0;34m\u001b[0m\u001b[0;34m\u001b[0m\u001b[0m\n\u001b[1;32m    645\u001b[0m         \u001b[0;32mif\u001b[0m \u001b[0;32mnot\u001b[0m \u001b[0msrsly\u001b[0m\u001b[0;34m.\u001b[0m\u001b[0mis_json_serializable\u001b[0m\u001b[0;34m(\u001b[0m\u001b[0mconfig\u001b[0m\u001b[0;34m)\u001b[0m\u001b[0;34m:\u001b[0m\u001b[0;34m\u001b[0m\u001b[0;34m\u001b[0m\u001b[0m\n\u001b[0;32m--> 646\u001b[0;31m             \u001b[0;32mraise\u001b[0m \u001b[0mValueError\u001b[0m\u001b[0;34m(\u001b[0m\u001b[0mErrors\u001b[0m\u001b[0;34m.\u001b[0m\u001b[0mE961\u001b[0m\u001b[0;34m.\u001b[0m\u001b[0mformat\u001b[0m\u001b[0;34m(\u001b[0m\u001b[0mconfig\u001b[0m\u001b[0;34m=\u001b[0m\u001b[0mconfig\u001b[0m\u001b[0;34m)\u001b[0m\u001b[0;34m)\u001b[0m\u001b[0;34m\u001b[0m\u001b[0;34m\u001b[0m\u001b[0m\n\u001b[0m\u001b[1;32m    647\u001b[0m         \u001b[0;32mif\u001b[0m \u001b[0;32mnot\u001b[0m \u001b[0mself\u001b[0m\u001b[0;34m.\u001b[0m\u001b[0mhas_factory\u001b[0m\u001b[0;34m(\u001b[0m\u001b[0mfactory_name\u001b[0m\u001b[0;34m)\u001b[0m\u001b[0;34m:\u001b[0m\u001b[0;34m\u001b[0m\u001b[0;34m\u001b[0m\u001b[0m\n\u001b[1;32m    648\u001b[0m             err = Errors.E002.format(\n",
      "\u001b[0;31mValueError\u001b[0m: [E961] Found non-serializable Python object in config. Configs should only include values that can be serialized to JSON. If you need to pass models or other objects to your component, use a reference to a registered function or initialize the object in your component.\n\n{'data':    filename                                               text  \\\n0    INV006     \\n Invoice \\n FROM TO \\n HTL Leonding Rechn...   \n1    INV015     \\n Invoice \\n FROM TO \\n HTL Leonding Rechn...   \n2    INV001     \\n Invoice \\n FROM TO \\n HTL Leonding Unbek...   \n3    INV003     \\n Invoice \\n FROM TO \\n HTL Leonding Unbek...   \n4    INV004        \\n    Subtotal Ust(20%) Total Invoice EU...   \n5    INV011     \\n Invoice \\n FROM TO \\n HTL Leonding Teste...   \n6    INV012     \\n Invoice \\n FROM TO \\n HTL Leonding Rechn...   \n7    INV009     \\n Invoice \\n FROM TO \\n HTL Leonding FoodT...   \n8    INV002     \\n Invoice \\n FROM TO \\n HTL Leonding FoodT...   \n9    INV008     \\n Invoice \\n FROM TO \\n HTL Leonding Teste...   \n10   INV013     \\n Invoice \\n FROM TO \\n HTL Leonding Teste...   \n11   INV010     \\n Invoice \\n FROM TO \\n HTL Leonding FoodT...   \n12   INV014     \\n Invoice \\n FROM TO \\n HTL Leonding Unbek...   \n13   INV005     \\n Commercial Invoice \\n FROM TO \\n HTL Leo...   \n14   INV007     \\n Invoice \\n FROM TO \\n HTL Leonding Teste...   \n\n                                    entity_dictionary  \n0   {'company-name': 'Rechnungsbearbeiter e.U.', '...  \n1   {'company-name': 'Rechnungsbearbeiter e.U.', '...  \n2   {'company-name': 'Unbekanntes Unternehmen KG',...  \n3   {'company-name': 'Unbekanntes Unternehmen KG',...  \n4   {'company-name': 'Demo GmbH', 'company-address...  \n5   {'company-name': 'Tester UG', 'company-address...  \n6   {'company-name': 'Rechnungsbearbeiter e.U.', '...  \n7   {'company-name': 'FoodTable', 'company-address...  \n8   {'company-name': 'FoodTable', 'company-address...  \n9   {'company-name': 'Tester UG', 'company-address...  \n10  {'company-name': 'Tester UG', 'company-address...  \n11  {'company-name': 'FoodTable', 'company-address...  \n12  {'company-name': 'Unbekanntes Unternehmen KG',...  \n13  {'company-name': 'Unbekanntes Unternehmen KG',...  \n14  {'company-name': 'Tester UG', 'company-address...  , 'ent_score': True}"
     ]
    }
   ],
   "source": [
    "nlp_ner = spacy.load(\"model/model-best\")"
   ]
  },
  {
   "cell_type": "code",
   "execution_count": 35,
   "id": "be50d250",
   "metadata": {},
   "outputs": [
    {
     "data": {
      "text/plain": [
       "['INV016.pdf', 'INV017.pdf', 'INV020.pdf', 'INV019.pdf', 'INV018.pdf']"
      ]
     },
     "execution_count": 35,
     "metadata": {},
     "output_type": "execute_result"
    }
   ],
   "source": [
    "test_files = os.listdir(test_dir)\n",
    "test_files"
   ]
  },
  {
   "cell_type": "code",
   "execution_count": 36,
   "id": "cccaa167",
   "metadata": {},
   "outputs": [
    {
     "data": {
      "text/plain": [
       "5"
      ]
     },
     "execution_count": 36,
     "metadata": {},
     "output_type": "execute_result"
    }
   ],
   "source": [
    "len(test_files)"
   ]
  },
  {
   "cell_type": "code",
   "execution_count": 37,
   "id": "1c0b054f",
   "metadata": {},
   "outputs": [],
   "source": [
    "test_data = pd.DataFrame(columns=[\"filename\", \"text\"])\n",
    "\n",
    "test_data[\"filename\"] = test_files\n",
    "\n",
    "data_text = []\n",
    "for file in test_data[\"filename\"]:\n",
    "    data_text.append(get_text(f'{test_dir}/{file}'))\n",
    "test_data[\"text\"] = data_text"
   ]
  },
  {
   "cell_type": "code",
   "execution_count": 38,
   "id": "c6eb1168",
   "metadata": {},
   "outputs": [
    {
     "data": {
      "text/plain": [
       "'   \\n Invoice \\n FROM TO \\n HTL Leonding Rechnungsbearbeiter e.U. \\n LimesstraBe 12/14 Rechnung Bearbeiter \\n 4060 Leonding RechnungsstraBe 19 \\n Austria Linz 4020 \\n invoice@htl-leonding.ac.at Austria \\n rechnung@berabeiter.at \\n Invoice No.: INVO16 \\n Due: Feb 28th, 2023 \\n Invoice Date: Nov 28th, 2022 \\n Item HRS/QTY Rate Tax Subtotal \\n Docker Anbindung 1 600.00 Ust(20%) EUR 600.00 \\n Kubernetes Anbdinung 1 700.90 Ust(20%) EUR 700.90 \\n Invoice Summary \\n Subtotal EUR 1,300.90 \\n Ust(20%) EUR 260.18 \\n Total EUR 1,561.08 \\n'"
      ]
     },
     "execution_count": 38,
     "metadata": {},
     "output_type": "execute_result"
    }
   ],
   "source": [
    "test_data['text'][0]"
   ]
  },
  {
   "cell_type": "code",
   "execution_count": 39,
   "id": "48050e72",
   "metadata": {},
   "outputs": [
    {
     "name": "stdout",
     "output_type": "stream",
     "text": [
      "Entities {'company-name': 'Rechnungsbearbeiter e.U.', 'company-address': 'RechnungsstraBe 19', 'invoice-id': 'INVO16', 'invoice-date': 'Nov 28th, 2022', 'item-header': 'Item', 'qty-header': 'HRS/QTY', 'rate-header': 'Rate', 'total-header': 'Subtotal', 'total-value': 'EUR 1,561.08'}\n",
      "Entities {'company-name': 'FoodTable', 'company-address': 'BundesstraBe 8/5', 'invoice-id': 'INV017', 'invoice-date': 'Nov 28th, 2022', 'item-header': 'Item', 'qty-header': 'HRS/QTY', 'rate-header': 'Rate', 'total-header': 'Subtotal', 'total-value': 'EUR 6,606.00'}\n",
      "Entities {'company-name': 'Unbekanntes Unternehmen KG', 'company-address': 'MusterstraBe 1', 'invoice-id': 'INV020', 'invoice-date': 'Nov 28th, 2022', 'item-header': 'Item', 'qty-header': 'HRS/QTY', 'rate-header': 'Rate', 'total-header': 'Subtotal', 'total-value': 'EUR 18,009.00'}\n",
      "Entities {'company-name': 'Unbekanntes Unternehmen KG', 'company-address': 'MusterstraBe 1', 'invoice-id': 'INVO19', 'invoice-date': 'Nov 28th, 2022', 'item-header': 'Item', 'qty-header': 'HRS/QTY', 'rate-header': 'Rate', 'total-header': 'Subtotal', 'total-value': 'EUR 4,104.84'}\n",
      "Entities {'company-name': 'Tester UG', 'company-address': 'TeststraBe 1', 'invoice-id': 'INV018', 'invoice-date': 'Nov 28th, 2022', 'item-header': 'Item', 'qty-header': 'HRS/QTY', 'rate-header': 'Rate', 'total-header': 'Subtotal', 'total-value': 'EUR 1,276.20'}\n"
     ]
    }
   ],
   "source": [
    "for index, row in test_data.iterrows():\n",
    "    op_dict = {}\n",
    "    doc = nlp_ner(row[\"text\"])\n",
    "    for ent in doc.ents:      #identifying the entities using the trained model\n",
    "        op_dict[ent.label_] = ent.text\n",
    "  \n",
    "    print(\"Entities\", op_dict)"
   ]
  }
 ],
 "metadata": {
  "kernelspec": {
   "display_name": "Python 3.10.4 ('leoenv')",
   "language": "python",
   "name": "python3"
  },
  "language_info": {
   "codemirror_mode": {
    "name": "ipython",
    "version": 3
   },
   "file_extension": ".py",
   "mimetype": "text/x-python",
   "name": "python",
   "nbconvert_exporter": "python",
   "pygments_lexer": "ipython3",
   "version": "3.10.4"
  },
  "vscode": {
   "interpreter": {
    "hash": "9d062e205adac94e46c48383f689092959cf26a5fbf115ddfc7417b9fa8d442d"
   }
  }
 },
 "nbformat": 4,
 "nbformat_minor": 5
}
