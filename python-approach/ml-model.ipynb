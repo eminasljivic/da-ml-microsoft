{
 "cells": [
  {
   "cell_type": "code",
   "execution_count": null,
   "id": "85a5f027",
   "metadata": {},
   "outputs": [],
   "source": [
    "import os, sys\n",
    "os.environ['KMP_DUPLICATE_LIB_OK']='True'\n",
    "import easyocr\n",
    "from pdf2image import convert_from_path\n",
    "from IPython.display import display\n",
    "import numpy as np\n",
    "from PIL import ImageDraw"
   ]
  },
  {
   "cell_type": "code",
   "execution_count": null,
   "id": "7e6047a8",
   "metadata": {},
   "outputs": [],
   "source": [
    "reader = easyocr.Reader(['de'], gpu=False)"
   ]
  },
  {
   "cell_type": "code",
   "execution_count": null,
   "id": "b1f9ea08",
   "metadata": {},
   "outputs": [],
   "source": [
    "train_dir = r'input/train'\n",
    "test_dir = r'input/test'"
   ]
  },
  {
   "cell_type": "code",
   "execution_count": null,
   "id": "071608a1",
   "metadata": {},
   "outputs": [],
   "source": [
    "os.listdir(train_dir)"
   ]
  },
  {
   "cell_type": "code",
   "execution_count": null,
   "id": "c95e6ef6",
   "metadata": {},
   "outputs": [],
   "source": [
    "images = convert_from_path('input/train/'+os.listdir(train_dir)[0], size=(612, 792), dpi=300, transparent=True, single_file=True, fmt='png', output_folder=train_dir)\n",
    "display(images[0])"
   ]
  },
  {
   "cell_type": "code",
   "execution_count": null,
   "id": "ec20d313",
   "metadata": {},
   "outputs": [],
   "source": [
    "bounds = reader.readtext(np.array(images[0]))"
   ]
  },
  {
   "cell_type": "code",
   "execution_count": null,
   "id": "99c838f2",
   "metadata": {},
   "outputs": [],
   "source": [
    "def draw_boxes(image, bounds):\n",
    "    draw = ImageDraw.Draw(image)\n",
    "    for bound in bounds:\n",
    "        p0, p1, p2, p3 = bound[0]\n",
    "        draw.line([*p0,*p1,*p2,*p3,*p0], fill = 'red', width = 2)\n",
    "    return image"
   ]
  },
  {
   "cell_type": "code",
   "execution_count": null,
   "id": "5a67b05c",
   "metadata": {},
   "outputs": [],
   "source": [
    "draw_boxes(images[0], bounds)"
   ]
  },
  {
   "cell_type": "code",
   "execution_count": null,
   "id": "4f96cac2",
   "metadata": {},
   "outputs": [],
   "source": [
    "bounds"
   ]
  },
  {
   "cell_type": "code",
   "execution_count": null,
   "id": "7f66cde7",
   "metadata": {},
   "outputs": [],
   "source": []
  }
 ],
 "metadata": {
  "kernelspec": {
   "display_name": "Python 3.10.4 ('leoenv')",
   "language": "python",
   "name": "python3"
  },
  "language_info": {
   "codemirror_mode": {
    "name": "ipython",
    "version": 3
   },
   "file_extension": ".py",
   "mimetype": "text/x-python",
   "name": "python",
   "nbconvert_exporter": "python",
   "pygments_lexer": "ipython3",
   "version": "3.10.4"
  },
  "vscode": {
   "interpreter": {
    "hash": "9d062e205adac94e46c48383f689092959cf26a5fbf115ddfc7417b9fa8d442d"
   }
  }
 },
 "nbformat": 4,
 "nbformat_minor": 5
}
